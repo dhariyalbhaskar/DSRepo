{
 "cells": [
  {
   "cell_type": "code",
   "execution_count": 331,
   "metadata": {
    "collapsed": true
   },
   "outputs": [],
   "source": [
    "import pandas as pd\n",
    "import numpy as np\n",
    "import nltk\n",
    "import re"
   ]
  },
  {
   "cell_type": "code",
   "execution_count": 332,
   "metadata": {
    "collapsed": true
   },
   "outputs": [],
   "source": [
    "X_train=pd.read_csv('/home/hduser/Desktop/FundingProject/Data/train.csv',header=0)\n",
    "X_test=pd.read_csv('/home/hduser/Desktop/FundingProject/Data/test.csv',header=0)"
   ]
  },
  {
   "cell_type": "code",
   "execution_count": 338,
   "metadata": {
    "collapsed": true
   },
   "outputs": [],
   "source": [
    "X_train.drop(['name','disable_communication','country','currency','backers_count','final_status'],axis=1,inplace=True)"
   ]
  },
  {
   "cell_type": "code",
   "execution_count": 339,
   "metadata": {
    "collapsed": true
   },
   "outputs": [],
   "source": [
    "X_test.drop(['name','disable_communication','country','currency'],axis=1,inplace=True)"
   ]
  },
  {
   "cell_type": "code",
   "execution_count": 348,
   "metadata": {
    "collapsed": true
   },
   "outputs": [],
   "source": [
    "def combinedata():\n",
    "    combined_X=X_train.append(X_test)\n",
    "    #combined_X['desc']=combinedX['desc'].astype(str)\n",
    "    combined_X['diff_creat_laun']=abs(combined_X['created_at']-combined_X['launched_at'])\n",
    "    combined_X['diff_laun_status']=abs(combined_X['launched_at']-combined_X['state_changed_at'])\n",
    "    combined_X['diff_status_dead']=(combined_X['state_changed_at']-combined_X['deadline'])\n",
    "    print(\"Shape of total data\",combined_X.shape)\n",
    "    combined_X.reset_index(inplace=True)\n",
    "    combined_X.drop('index',axis=1,inplace=True)\n",
    "    return combined_X"
   ]
  },
  {
   "cell_type": "code",
   "execution_count": 349,
   "metadata": {
    "collapsed": false
   },
   "outputs": [
    {
     "name": "stdout",
     "output_type": "stream",
     "text": [
      "Shape of total data (171594, 11)\n"
     ]
    }
   ],
   "source": [
    "combinedX=pd.DataFrame(combinedata())"
   ]
  },
  {
   "cell_type": "code",
   "execution_count": 351,
   "metadata": {
    "collapsed": true
   },
   "outputs": [],
   "source": [
    "combinedX.drop(['created_at','launched_at','state_changed_at','deadline'],axis=1,inplace=True)"
   ]
  },
  {
   "cell_type": "code",
   "execution_count": 354,
   "metadata": {
    "collapsed": false
   },
   "outputs": [
    {
     "data": {
      "text/plain": [
       "project_id          False\n",
       "desc                 True\n",
       "goal                False\n",
       "keywords            False\n",
       "diff_creat_laun     False\n",
       "diff_laun_status    False\n",
       "diff_status_dead    False\n",
       "dtype: bool"
      ]
     },
     "execution_count": 354,
     "metadata": {},
     "output_type": "execute_result"
    }
   ],
   "source": [
    "combinedX.isnull().any() #Null values check"
   ]
  },
  {
   "cell_type": "markdown",
   "metadata": {},
   "source": [
    "## Cleaning"
   ]
  },
  {
   "cell_type": "code",
   "execution_count": 355,
   "metadata": {
    "collapsed": true
   },
   "outputs": [],
   "source": [
    "kickdesc = pd.Series(X_train['desc'].tolist() + X_test['desc'].tolist()).astype(str)"
   ]
  },
  {
   "cell_type": "code",
   "execution_count": 356,
   "metadata": {
    "collapsed": true
   },
   "outputs": [],
   "source": [
    "# this function cleans punctuations, digits and irregular tabs. Then converts the sentences to lower\n",
    "def desc_clean(word):\n",
    "    p1 = re.sub(pattern='(\\W+)|(\\d+)|(\\s+)',repl=' ',string=word)\n",
    "    p1 = p1.lower()\n",
    "    return p1\n"
   ]
  },
  {
   "cell_type": "code",
   "execution_count": 357,
   "metadata": {
    "collapsed": true
   },
   "outputs": [],
   "source": [
    "kickdesc=kickdesc.map(desc_clean)"
   ]
  },
  {
   "cell_type": "code",
   "execution_count": 358,
   "metadata": {
    "collapsed": true
   },
   "outputs": [],
   "source": [
    "from nltk.corpus import stopwords\n",
    "stop =(stopwords.words('english'))\n",
    "stop.extend(['mr','my','the','a','may','also','zero','one','two','three','four','five','six','seven','eight','nine','ten','across','among','beside','however','yet','within'])"
   ]
  },
  {
   "cell_type": "code",
   "execution_count": 359,
   "metadata": {
    "collapsed": true
   },
   "outputs": [],
   "source": [
    "kickdesc = [[x for x in x.split() if x not in stop] for x in kickdesc]"
   ]
  },
  {
   "cell_type": "code",
   "execution_count": 360,
   "metadata": {
    "collapsed": true
   },
   "outputs": [],
   "source": [
    "from nltk.stem.snowball import SnowballStemmer\n",
    "stemmer = SnowballStemmer(language='english')\n",
    "kickdesc = [[stemmer.stem(x) for x in x] for x in kickdesc]"
   ]
  },
  {
   "cell_type": "code",
   "execution_count": 361,
   "metadata": {
    "collapsed": true
   },
   "outputs": [],
   "source": [
    "stemmer = SnowballStemmer(language='english')\n",
    "kickdesc = [[stemmer.stem(x) for x in x] for x in kickdesc]"
   ]
  },
  {
   "cell_type": "code",
   "execution_count": 362,
   "metadata": {
    "collapsed": true
   },
   "outputs": [],
   "source": [
    "kickdesc = [[x for x in x if len(x) > 2] for x in kickdesc]"
   ]
  },
  {
   "cell_type": "code",
   "execution_count": 363,
   "metadata": {
    "collapsed": true
   },
   "outputs": [],
   "source": [
    "kickdesc = [' '.join(x) for x in kickdesc]"
   ]
  },
  {
   "cell_type": "code",
   "execution_count": 364,
   "metadata": {
    "collapsed": true
   },
   "outputs": [],
   "source": [
    "kickkey=combinedX.keywords.astype(str)"
   ]
  },
  {
   "cell_type": "code",
   "execution_count": 365,
   "metadata": {
    "collapsed": true
   },
   "outputs": [],
   "source": [
    "kickkey=kickkey.map(desc_clean)"
   ]
  },
  {
   "cell_type": "code",
   "execution_count": 366,
   "metadata": {
    "collapsed": true
   },
   "outputs": [],
   "source": [
    "kickkey = [[x for x in x.split() if x not in stop] for x in kickkey]"
   ]
  },
  {
   "cell_type": "code",
   "execution_count": 367,
   "metadata": {
    "collapsed": true
   },
   "outputs": [],
   "source": [
    "stemmer = SnowballStemmer(language='english')\n",
    "kickkey = [[stemmer.stem(x) for x in x] for x in kickkey]"
   ]
  },
  {
   "cell_type": "code",
   "execution_count": 368,
   "metadata": {
    "collapsed": true
   },
   "outputs": [],
   "source": [
    "stemmer = SnowballStemmer(language='english')\n",
    "kickkey = [[stemmer.stem(x) for x in x] for x in kickkey]"
   ]
  },
  {
   "cell_type": "code",
   "execution_count": 369,
   "metadata": {
    "collapsed": true
   },
   "outputs": [],
   "source": [
    "kickkey = [[x for x in x if len(x) > 2] for x in kickkey]"
   ]
  },
  {
   "cell_type": "code",
   "execution_count": 370,
   "metadata": {
    "collapsed": true
   },
   "outputs": [],
   "source": [
    "kickkey = [' '.join(x) for x in kickkey]"
   ]
  },
  {
   "cell_type": "code",
   "execution_count": 371,
   "metadata": {
    "collapsed": false
   },
   "outputs": [
    {
     "data": {
      "text/plain": [
       "list"
      ]
     },
     "execution_count": 371,
     "metadata": {},
     "output_type": "execute_result"
    }
   ],
   "source": [
    "type(kickkey)"
   ]
  },
  {
   "cell_type": "code",
   "execution_count": 372,
   "metadata": {
    "collapsed": true
   },
   "outputs": [],
   "source": [
    "dframe1=pd.DataFrame({'Description':kickdesc}).astype(str)"
   ]
  },
  {
   "cell_type": "code",
   "execution_count": 373,
   "metadata": {
    "collapsed": true
   },
   "outputs": [],
   "source": [
    "dframe2=pd.DataFrame({'Key':kickkey}).astype(str)"
   ]
  },
  {
   "cell_type": "code",
   "execution_count": 374,
   "metadata": {
    "collapsed": true
   },
   "outputs": [],
   "source": [
    "#result = pd.concat([dframe1, dframe2], axis=1, join_axes=[dframe1.index])"
   ]
  },
  {
   "cell_type": "code",
   "execution_count": 375,
   "metadata": {
    "collapsed": true
   },
   "outputs": [],
   "source": [
    "dframe=[]\n",
    "for i in range(dframe1.shape[0]):\n",
    "    dframe.append(dframe1.Description[i]+\" \"+dframe2.Key[i])"
   ]
  },
  {
   "cell_type": "code",
   "execution_count": 376,
   "metadata": {
    "collapsed": true
   },
   "outputs": [],
   "source": [
    "#dframe=pd.DataFrame({'Desc_Key':dframe}).astype(str)"
   ]
  },
  {
   "cell_type": "code",
   "execution_count": 377,
   "metadata": {
    "collapsed": true
   },
   "outputs": [],
   "source": [
    "#dframe.head(2)"
   ]
  },
  {
   "cell_type": "code",
   "execution_count": 378,
   "metadata": {
    "collapsed": true
   },
   "outputs": [],
   "source": [
    "from sklearn.feature_extraction.text import TfidfVectorizer,CountVectorizer\n",
    "cv = CountVectorizer(max_features=650)\n",
    "#cv = TfidfVectorizer(max_features=650) #67"
   ]
  },
  {
   "cell_type": "code",
   "execution_count": 379,
   "metadata": {
    "collapsed": true
   },
   "outputs": [],
   "source": [
    "alldesc = cv.fit_transform(dframe).todense()"
   ]
  },
  {
   "cell_type": "code",
   "execution_count": 380,
   "metadata": {
    "collapsed": true
   },
   "outputs": [],
   "source": [
    "#create a data frame\n",
    "combine = pd.DataFrame(alldesc)\n",
    "combine.rename(columns= lambda x: 'variable_'+ str(x), inplace=True)"
   ]
  },
  {
   "cell_type": "code",
   "execution_count": 381,
   "metadata": {
    "collapsed": false
   },
   "outputs": [
    {
     "data": {
      "text/plain": [
       "pandas.core.frame.DataFrame"
      ]
     },
     "execution_count": 381,
     "metadata": {},
     "output_type": "execute_result"
    }
   ],
   "source": [
    "type(combine)"
   ]
  },
  {
   "cell_type": "code",
   "execution_count": 382,
   "metadata": {
    "collapsed": false
   },
   "outputs": [
    {
     "data": {
      "text/html": [
       "<div>\n",
       "<style>\n",
       "    .dataframe thead tr:only-child th {\n",
       "        text-align: right;\n",
       "    }\n",
       "\n",
       "    .dataframe thead th {\n",
       "        text-align: left;\n",
       "    }\n",
       "\n",
       "    .dataframe tbody tr th {\n",
       "        vertical-align: top;\n",
       "    }\n",
       "</style>\n",
       "<table border=\"1\" class=\"dataframe\">\n",
       "  <thead>\n",
       "    <tr style=\"text-align: right;\">\n",
       "      <th></th>\n",
       "      <th>project_id</th>\n",
       "      <th>desc</th>\n",
       "      <th>goal</th>\n",
       "      <th>keywords</th>\n",
       "      <th>diff_creat_laun</th>\n",
       "      <th>diff_laun_status</th>\n",
       "      <th>diff_status_dead</th>\n",
       "    </tr>\n",
       "  </thead>\n",
       "  <tbody>\n",
       "    <tr>\n",
       "      <th>171593</th>\n",
       "      <td>kkst1164902454</td>\n",
       "      <td>Join Daisy, on her adventures, in this theme b...</td>\n",
       "      <td>850.0</td>\n",
       "      <td>daisys-sensory-adventures-childrens-book</td>\n",
       "      <td>5455</td>\n",
       "      <td>1296000</td>\n",
       "      <td>0</td>\n",
       "    </tr>\n",
       "  </tbody>\n",
       "</table>\n",
       "</div>"
      ],
      "text/plain": [
       "            project_id                                               desc  \\\n",
       "171593  kkst1164902454  Join Daisy, on her adventures, in this theme b...   \n",
       "\n",
       "         goal                                  keywords  diff_creat_laun  \\\n",
       "171593  850.0  daisys-sensory-adventures-childrens-book             5455   \n",
       "\n",
       "        diff_laun_status  diff_status_dead  \n",
       "171593           1296000                 0  "
      ]
     },
     "execution_count": 382,
     "metadata": {},
     "output_type": "execute_result"
    }
   ],
   "source": [
    "combinedX.tail(1)"
   ]
  },
  {
   "cell_type": "code",
   "execution_count": 383,
   "metadata": {
    "collapsed": true
   },
   "outputs": [],
   "source": [
    "combinedX.drop(['project_id','desc','keywords'], axis=1,inplace=True)"
   ]
  },
  {
   "cell_type": "code",
   "execution_count": 386,
   "metadata": {
    "collapsed": false
   },
   "outputs": [
    {
     "name": "stderr",
     "output_type": "stream",
     "text": [
      "/home/hduser/anaconda3/lib/python3.6/site-packages/sklearn/preprocessing/data.py:321: DeprecationWarning: Passing 1d arrays as data is deprecated in 0.17 and will raise ValueError in 0.19. Reshape your data either using X.reshape(-1, 1) if your data has a single feature or X.reshape(1, -1) if it contains a single sample.\n",
      "  warnings.warn(DEPRECATION_MSG_1D, DeprecationWarning)\n",
      "/home/hduser/anaconda3/lib/python3.6/site-packages/sklearn/preprocessing/data.py:356: DeprecationWarning: Passing 1d arrays as data is deprecated in 0.17 and will raise ValueError in 0.19. Reshape your data either using X.reshape(-1, 1) if your data has a single feature or X.reshape(1, -1) if it contains a single sample.\n",
      "  warnings.warn(DEPRECATION_MSG_1D, DeprecationWarning)\n",
      "/home/hduser/anaconda3/lib/python3.6/site-packages/sklearn/utils/validation.py:429: DataConversionWarning: Data with input dtype int64 was converted to float64 by MinMaxScaler.\n",
      "  warnings.warn(msg, _DataConversionWarning)\n",
      "/home/hduser/anaconda3/lib/python3.6/site-packages/sklearn/preprocessing/data.py:321: DeprecationWarning: Passing 1d arrays as data is deprecated in 0.17 and will raise ValueError in 0.19. Reshape your data either using X.reshape(-1, 1) if your data has a single feature or X.reshape(1, -1) if it contains a single sample.\n",
      "  warnings.warn(DEPRECATION_MSG_1D, DeprecationWarning)\n",
      "/home/hduser/anaconda3/lib/python3.6/site-packages/sklearn/preprocessing/data.py:356: DeprecationWarning: Passing 1d arrays as data is deprecated in 0.17 and will raise ValueError in 0.19. Reshape your data either using X.reshape(-1, 1) if your data has a single feature or X.reshape(1, -1) if it contains a single sample.\n",
      "  warnings.warn(DEPRECATION_MSG_1D, DeprecationWarning)\n",
      "/home/hduser/anaconda3/lib/python3.6/site-packages/sklearn/preprocessing/data.py:321: DeprecationWarning: Passing 1d arrays as data is deprecated in 0.17 and will raise ValueError in 0.19. Reshape your data either using X.reshape(-1, 1) if your data has a single feature or X.reshape(1, -1) if it contains a single sample.\n",
      "  warnings.warn(DEPRECATION_MSG_1D, DeprecationWarning)\n",
      "/home/hduser/anaconda3/lib/python3.6/site-packages/sklearn/preprocessing/data.py:356: DeprecationWarning: Passing 1d arrays as data is deprecated in 0.17 and will raise ValueError in 0.19. Reshape your data either using X.reshape(-1, 1) if your data has a single feature or X.reshape(1, -1) if it contains a single sample.\n",
      "  warnings.warn(DEPRECATION_MSG_1D, DeprecationWarning)\n",
      "/home/hduser/anaconda3/lib/python3.6/site-packages/sklearn/preprocessing/data.py:321: DeprecationWarning: Passing 1d arrays as data is deprecated in 0.17 and will raise ValueError in 0.19. Reshape your data either using X.reshape(-1, 1) if your data has a single feature or X.reshape(1, -1) if it contains a single sample.\n",
      "  warnings.warn(DEPRECATION_MSG_1D, DeprecationWarning)\n",
      "/home/hduser/anaconda3/lib/python3.6/site-packages/sklearn/preprocessing/data.py:356: DeprecationWarning: Passing 1d arrays as data is deprecated in 0.17 and will raise ValueError in 0.19. Reshape your data either using X.reshape(-1, 1) if your data has a single feature or X.reshape(1, -1) if it contains a single sample.\n",
      "  warnings.warn(DEPRECATION_MSG_1D, DeprecationWarning)\n"
     ]
    }
   ],
   "source": [
    "from sklearn.preprocessing import MinMaxScaler\n",
    "combinedX['goal']=MinMaxScaler().fit_transform(combinedX['goal'])\n",
    "combinedX['diff_creat_laun']=MinMaxScaler().fit_transform(combinedX['diff_creat_laun'])\n",
    "combinedX['diff_laun_status']=MinMaxScaler().fit_transform(combinedX['diff_laun_status'])\n",
    "combinedX['diff_status_dead']=MinMaxScaler().fit_transform(combinedX['diff_status_dead'])"
   ]
  },
  {
   "cell_type": "markdown",
   "metadata": {},
   "source": [
    "### Now ready to train model!!!"
   ]
  },
  {
   "cell_type": "code",
   "execution_count": 391,
   "metadata": {
    "collapsed": true
   },
   "outputs": [],
   "source": [
    "cols_to_use = ['goal','diff_creat_laun','diff_laun_status','diff_status_dead']"
   ]
  },
  {
   "cell_type": "code",
   "execution_count": 392,
   "metadata": {
    "collapsed": true
   },
   "outputs": [],
   "source": [
    "train1=pd.read_csv('/home/hduser/Desktop/FundingProject/Data/train.csv')"
   ]
  },
  {
   "cell_type": "code",
   "execution_count": 393,
   "metadata": {
    "collapsed": true
   },
   "outputs": [],
   "source": [
    "#train1.project_id[0]"
   ]
  },
  {
   "cell_type": "code",
   "execution_count": 394,
   "metadata": {
    "collapsed": true
   },
   "outputs": [],
   "source": [
    "target = train1['final_status']"
   ]
  },
  {
   "cell_type": "code",
   "execution_count": 395,
   "metadata": {
    "collapsed": false
   },
   "outputs": [
    {
     "data": {
      "text/plain": [
       "0    1\n",
       "1    0\n",
       "2    0\n",
       "3    1\n",
       "4    0\n",
       "Name: final_status, dtype: int64"
      ]
     },
     "execution_count": 395,
     "metadata": {},
     "output_type": "execute_result"
    }
   ],
   "source": [
    "target.head()"
   ]
  },
  {
   "cell_type": "code",
   "execution_count": 396,
   "metadata": {
    "collapsed": false
   },
   "outputs": [
    {
     "name": "stderr",
     "output_type": "stream",
     "text": [
      "/home/hduser/anaconda3/lib/python3.6/site-packages/ipykernel_launcher.py:2: DeprecationWarning: \n",
      ".ix is deprecated. Please use\n",
      ".loc for label based indexing or\n",
      ".iloc for positional indexing\n",
      "\n",
      "See the documentation here:\n",
      "http://pandas.pydata.org/pandas-docs/stable/indexing.html#deprecate_ix\n",
      "  \n"
     ]
    }
   ],
   "source": [
    "#Numerical features normalized\n",
    "train = combinedX.ix[0:108128]\n",
    "test = combinedX.ix[108129:]\n",
    "#test.reset_index(drop=True,inplace=True)"
   ]
  },
  {
   "cell_type": "code",
   "execution_count": 397,
   "metadata": {
    "collapsed": false
   },
   "outputs": [
    {
     "name": "stdout",
     "output_type": "stream",
     "text": [
      "(108129, 4)\n",
      "--------\n",
      "(63465, 4)\n"
     ]
    }
   ],
   "source": [
    "print(train.shape)\n",
    "print('--------')\n",
    "print(test.shape)"
   ]
  },
  {
   "cell_type": "code",
   "execution_count": 398,
   "metadata": {
    "collapsed": true
   },
   "outputs": [],
   "source": [
    "#train1.shape[1]"
   ]
  },
  {
   "cell_type": "code",
   "execution_count": 399,
   "metadata": {
    "collapsed": true
   },
   "outputs": [],
   "source": [
    "#split the text features\n",
    "\n",
    "train_text = combine[:108129]\n",
    "test_text = combine[108129:]\n",
    "\n",
    "test_text.reset_index(drop=True,inplace=True)"
   ]
  },
  {
   "cell_type": "code",
   "execution_count": 400,
   "metadata": {
    "collapsed": false
   },
   "outputs": [
    {
     "name": "stdout",
     "output_type": "stream",
     "text": [
      "(108129, 650)\n",
      "(63465, 650)\n"
     ]
    }
   ],
   "source": [
    "print(train_text.shape)\n",
    "print(test_text.shape)"
   ]
  },
  {
   "cell_type": "code",
   "execution_count": 402,
   "metadata": {
    "collapsed": true
   },
   "outputs": [],
   "source": [
    "X_train1 = train.join(train_text)\n",
    "X_test1 = test.join(test_text)\n",
    "#X_train1=train_text.join(train)\n",
    "#X_test1 =test_text.join(test)\n",
    "#X_train1"
   ]
  },
  {
   "cell_type": "code",
   "execution_count": 306,
   "metadata": {
    "collapsed": true
   },
   "outputs": [],
   "source": [
    "import xgboost as xgb"
   ]
  },
  {
   "cell_type": "code",
   "execution_count": 307,
   "metadata": {
    "collapsed": true
   },
   "outputs": [],
   "source": [
    "dtrain = xgb.DMatrix(data=X_train1, label = target)\n",
    "dtest = xgb.DMatrix(data=X_test1)"
   ]
  },
  {
   "cell_type": "code",
   "execution_count": 308,
   "metadata": {
    "collapsed": true
   },
   "outputs": [],
   "source": [
    "params = {\n",
    "    'objective':'binary:logistic',\n",
    "    'eval_metric':'error',\n",
    "    'eta':0.025,\n",
    "    'max_depth':6,\n",
    "    'subsample':0.7,\n",
    "    'colsample_bytree':0.7,\n",
    "    'min_child_weight':5\n",
    "    \n",
    "}"
   ]
  },
  {
   "cell_type": "code",
   "execution_count": 309,
   "metadata": {
    "collapsed": false
   },
   "outputs": [
    {
     "name": "stdout",
     "output_type": "stream",
     "text": [
      "[0]\ttrain-error:0.309824+0.00101828\ttest-error:0.313582+0.0022737\n",
      "[10]\ttrain-error:0.306169+0.00235387\ttest-error:0.309114+0.00203822\n",
      "[20]\ttrain-error:0.303866+0.0021907\ttest-error:0.30757+0.00242637\n",
      "[30]\ttrain-error:0.302169+0.00095206\ttest-error:0.306516+0.00300895\n",
      "[40]\ttrain-error:0.300779+0.000567382\ttest-error:0.305582+0.00305864\n",
      "[50]\ttrain-error:0.299249+0.000421263\ttest-error:0.304287+0.00279358\n",
      "[60]\ttrain-error:0.297184+0.000284684\ttest-error:0.302566+0.00308037\n",
      "[70]\ttrain-error:0.295917+0.000283908\ttest-error:0.301558+0.00256077\n",
      "[80]\ttrain-error:0.294065+0.000443302\ttest-error:0.30018+0.00218066\n",
      "[90]\ttrain-error:0.292661+0.000357765\ttest-error:0.299052+0.00232434\n",
      "[100]\ttrain-error:0.291586+0.00045087\ttest-error:0.298247+0.00228554\n",
      "[110]\ttrain-error:0.290442+0.000424417\ttest-error:0.29711+0.00203453\n",
      "[120]\ttrain-error:0.289323+0.000518916\ttest-error:0.296278+0.0021184\n",
      "[130]\ttrain-error:0.288337+0.000699515\ttest-error:0.295371+0.00257814\n",
      "[140]\ttrain-error:0.287066+0.000855294\ttest-error:0.294631+0.00274317\n",
      "[150]\ttrain-error:0.286123+0.000854215\ttest-error:0.293947+0.00270413\n",
      "[160]\ttrain-error:0.285258+0.000997141\ttest-error:0.293151+0.00283869\n",
      "[170]\ttrain-error:0.284409+0.000873233\ttest-error:0.292375+0.00301624\n",
      "[180]\ttrain-error:0.283623+0.000778081\ttest-error:0.291885+0.00307303\n",
      "[190]\ttrain-error:0.282652+0.0007177\ttest-error:0.291348+0.00310184\n",
      "[200]\ttrain-error:0.281968+0.000754815\ttest-error:0.290821+0.00295561\n",
      "[210]\ttrain-error:0.28139+0.000764228\ttest-error:0.290044+0.00267694\n",
      "[220]\ttrain-error:0.280691+0.000629654\ttest-error:0.289785+0.00269809\n",
      "[230]\ttrain-error:0.279921+0.000639905\ttest-error:0.289443+0.00287542\n",
      "[240]\ttrain-error:0.279108+0.00063088\ttest-error:0.289036+0.00296183\n",
      "[250]\ttrain-error:0.278391+0.000621484\ttest-error:0.289017+0.00293794\n",
      "[260]\ttrain-error:0.277769+0.000763735\ttest-error:0.288758+0.00281148\n",
      "[270]\ttrain-error:0.277036+0.000956747\ttest-error:0.288277+0.00294681\n",
      "[280]\ttrain-error:0.276467+0.000844165\ttest-error:0.287722+0.00311969\n",
      "[290]\ttrain-error:0.275817+0.000760321\ttest-error:0.287565+0.00291415\n",
      "[300]\ttrain-error:0.275145+0.000688635\ttest-error:0.287288+0.00283007\n",
      "[310]\ttrain-error:0.274763+0.000655456\ttest-error:0.287168+0.00273105\n",
      "[320]\ttrain-error:0.274278+0.000761842\ttest-error:0.286936+0.00274472\n",
      "[330]\ttrain-error:0.273861+0.000793874\ttest-error:0.286261+0.00299024\n",
      "[340]\ttrain-error:0.27333+0.000765484\ttest-error:0.285854+0.00292782\n",
      "[350]\ttrain-error:0.27277+0.000725459\ttest-error:0.285605+0.00254015\n",
      "[360]\ttrain-error:0.272141+0.000805598\ttest-error:0.285235+0.00248324\n",
      "[370]\ttrain-error:0.271743+0.000723223\ttest-error:0.284837+0.00254452\n",
      "[380]\ttrain-error:0.271182+0.000633092\ttest-error:0.284726+0.00272812\n",
      "[390]\ttrain-error:0.270696+0.000566405\ttest-error:0.284902+0.00268889\n",
      "[400]\ttrain-error:0.270261+0.000626539\ttest-error:0.28455+0.0025591\n",
      "[410]\ttrain-error:0.269641+0.000611903\ttest-error:0.284504+0.00257706\n",
      "[420]\ttrain-error:0.269297+0.000561527\ttest-error:0.284439+0.00277102\n",
      "[430]\ttrain-error:0.268851+0.000621424\ttest-error:0.284282+0.00257642\n",
      "[440]\ttrain-error:0.268326+0.00066427\ttest-error:0.283967+0.00255159\n",
      "[450]\ttrain-error:0.267924+0.000613336\ttest-error:0.283755+0.00261083\n",
      "[460]\ttrain-error:0.267394+0.00059484\ttest-error:0.283709+0.00272555\n",
      "[470]\ttrain-error:0.267008+0.000690684\ttest-error:0.283311+0.0025037\n",
      "[480]\ttrain-error:0.266624+0.000639845\ttest-error:0.283237+0.00258911\n",
      "[490]\ttrain-error:0.26618+0.000598136\ttest-error:0.283182+0.00235893\n",
      "[500]\ttrain-error:0.265736+0.000652523\ttest-error:0.283135+0.00221231\n",
      "[510]\ttrain-error:0.26526+0.000491266\ttest-error:0.282996+0.0022213\n",
      "[520]\ttrain-error:0.265029+0.000546858\ttest-error:0.282978+0.00209878\n",
      "[530]\ttrain-error:0.264548+0.000553735\ttest-error:0.282858+0.00207402\n",
      "[540]\ttrain-error:0.264217+0.000545467\ttest-error:0.282756+0.00193372\n",
      "[550]\ttrain-error:0.263801+0.000597867\ttest-error:0.282719+0.00197875\n",
      "[560]\ttrain-error:0.263295+0.000495134\ttest-error:0.282608+0.0022406\n",
      "[570]\ttrain-error:0.263015+0.000548827\ttest-error:0.282599+0.00224848\n",
      "[580]\ttrain-error:0.262647+0.00057421\ttest-error:0.28246+0.00239228\n",
      "[590]\ttrain-error:0.262275+0.000491294\ttest-error:0.282359+0.00240569\n",
      "[600]\ttrain-error:0.261822+0.000525679\ttest-error:0.282127+0.00245971\n",
      "[610]\ttrain-error:0.261535+0.000498074\ttest-error:0.281952+0.00249957\n",
      "[620]\ttrain-error:0.261202+0.000513032\ttest-error:0.281868+0.00223242\n",
      "[630]\ttrain-error:0.260775+0.000545209\ttest-error:0.281572+0.0021137\n",
      "[640]\ttrain-error:0.260488+0.000496662\ttest-error:0.281406+0.00222307\n",
      "[650]\ttrain-error:0.260097+0.000507205\ttest-error:0.281202+0.00225529\n",
      "[660]\ttrain-error:0.259817+0.00052431\ttest-error:0.281193+0.002221\n",
      "[670]\ttrain-error:0.259438+0.00038033\ttest-error:0.281239+0.00219286\n",
      "[680]\ttrain-error:0.259253+0.000398193\ttest-error:0.281258+0.00204585\n",
      "[690]\ttrain-error:0.258872+0.000349713\ttest-error:0.280962+0.00219438\n",
      "[700]\ttrain-error:0.25856+0.000285802\ttest-error:0.28086+0.00209202\n",
      "[710]\ttrain-error:0.258356+0.00032675\ttest-error:0.280805+0.00209963\n",
      "[720]\ttrain-error:0.258021+0.000392712\ttest-error:0.280823+0.00203518\n",
      "[730]\ttrain-error:0.257729+0.000404524\ttest-error:0.280656+0.00210727\n",
      "[740]\ttrain-error:0.257413+0.000404109\ttest-error:0.280703+0.00200197\n",
      "[750]\ttrain-error:0.257008+0.000540489\ttest-error:0.280619+0.00191314\n",
      "[760]\ttrain-error:0.256724+0.000516291\ttest-error:0.280389+0.0021874\n",
      "[770]\ttrain-error:0.256543+0.000568114\ttest-error:0.280361+0.00201749\n",
      "[780]\ttrain-error:0.256199+0.000574645\ttest-error:0.280305+0.00188176\n",
      "[790]\ttrain-error:0.255877+0.000463745\ttest-error:0.280176+0.00181592\n",
      "[800]\ttrain-error:0.255542+0.000421802\ttest-error:0.279954+0.0018847\n",
      "[810]\ttrain-error:0.25538+0.000431351\ttest-error:0.279778+0.00191271\n",
      "[820]\ttrain-error:0.255114+0.000296571\ttest-error:0.279843+0.00195026\n",
      "[830]\ttrain-error:0.254913+0.000328665\ttest-error:0.279649+0.00198417\n",
      "[840]\ttrain-error:0.254599+0.000372226\ttest-error:0.279797+0.00217667\n",
      "[850]\ttrain-error:0.254303+0.000410647\ttest-error:0.279538+0.00227544\n",
      "[860]\ttrain-error:0.254049+0.000463496\ttest-error:0.27963+0.00237696\n",
      "[870]\ttrain-error:0.253803+0.000395582\ttest-error:0.279538+0.00246361\n",
      "[880]\ttrain-error:0.253544+0.00042562\ttest-error:0.279482+0.00238611\n",
      "[890]\ttrain-error:0.253292+0.000397778\ttest-error:0.279353+0.00236473\n",
      "[900]\ttrain-error:0.252893+0.000452682\ttest-error:0.279195+0.00215825\n",
      "[910]\ttrain-error:0.252719+0.000397922\ttest-error:0.279343+0.00206462\n",
      "[920]\ttrain-error:0.252405+0.000378007\ttest-error:0.27926+0.00222144\n",
      "[930]\ttrain-error:0.252102+0.000430988\ttest-error:0.279122+0.00228664\n",
      "[940]\ttrain-error:0.25187+0.000403823\ttest-error:0.279029+0.00238754\n",
      "[950]\ttrain-error:0.251605+0.000426056\ttest-error:0.279094+0.00232043\n",
      "[960]\ttrain-error:0.251389+0.000458085\ttest-error:0.279075+0.002255\n",
      "[970]\ttrain-error:0.251068+0.000458436\ttest-error:0.279167+0.00201009\n",
      "[980]\ttrain-error:0.250751+0.000496093\ttest-error:0.279075+0.00219492\n",
      "[990]\ttrain-error:0.250583+0.000444301\ttest-error:0.278964+0.00215874\n"
     ]
    }
   ],
   "source": [
    "bst = xgb.cv(params, dtrain, num_boost_round=1000, early_stopping_rounds=40,nfold=5,verbose_eval=10)"
   ]
  },
  {
   "cell_type": "code",
   "execution_count": 310,
   "metadata": {
    "collapsed": true
   },
   "outputs": [],
   "source": [
    "bst_train = xgb.train(params, dtrain, num_boost_round=1000)"
   ]
  },
  {
   "cell_type": "code",
   "execution_count": 318,
   "metadata": {
    "collapsed": true
   },
   "outputs": [],
   "source": [
    "p_test = bst_train.predict(dtest)"
   ]
  },
  {
   "cell_type": "code",
   "execution_count": 324,
   "metadata": {
    "collapsed": false
   },
   "outputs": [
    {
     "data": {
      "text/plain": [
       "63465"
      ]
     },
     "execution_count": 324,
     "metadata": {},
     "output_type": "execute_result"
    }
   ],
   "source": [
    "len(p_test)"
   ]
  },
  {
   "cell_type": "code",
   "execution_count": 325,
   "metadata": {
    "collapsed": true
   },
   "outputs": [],
   "source": [
    "sub = pd.DataFrame()\n",
    "sub['project_id'] = X_test['project_id']\n"
   ]
  },
  {
   "cell_type": "code",
   "execution_count": 328,
   "metadata": {
    "collapsed": true
   },
   "outputs": [],
   "source": [
    "sub['final_status']=p_test"
   ]
  },
  {
   "cell_type": "code",
   "execution_count": 329,
   "metadata": {
    "collapsed": true
   },
   "outputs": [],
   "source": [
    "sub['final_status'] = [1 if x > 0.5 else 0 for x in sub['final_status']]"
   ]
  },
  {
   "cell_type": "code",
   "execution_count": 330,
   "metadata": {
    "collapsed": true
   },
   "outputs": [],
   "source": [
    "sub.to_csv(\"/home/hduser/Desktop/FundingProject/Result/xgb_with_python_feats.csv\",index=False) "
   ]
  },
  {
   "cell_type": "code",
   "execution_count": null,
   "metadata": {
    "collapsed": true
   },
   "outputs": [],
   "source": []
  }
 ],
 "metadata": {
  "anaconda-cloud": {},
  "kernelspec": {
   "display_name": "Python [default]",
   "language": "python",
   "name": "python3"
  },
  "language_info": {
   "codemirror_mode": {
    "name": "ipython",
    "version": 3
   },
   "file_extension": ".py",
   "mimetype": "text/x-python",
   "name": "python",
   "nbconvert_exporter": "python",
   "pygments_lexer": "ipython3",
   "version": "3.5.2"
  }
 },
 "nbformat": 4,
 "nbformat_minor": 2
}
